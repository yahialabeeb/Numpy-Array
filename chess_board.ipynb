{
 "cells": [
  {
   "cell_type": "markdown",
   "metadata": {},
   "source": [
    "# Lab 11 Numpy arrays "
   ]
  },
  {
   "cell_type": "code",
   "execution_count": 67,
   "metadata": {},
   "outputs": [],
   "source": [
    "import matplotlib.pyplot as plt\n",
    "import numpy as np"
   ]
  },
  {
   "cell_type": "code",
   "execution_count": 68,
   "metadata": {},
   "outputs": [
    {
     "data": {
      "text/plain": [
       "False"
      ]
     },
     "execution_count": 68,
     "metadata": {},
     "output_type": "execute_result"
    },
    {
     "data": {
      "image/png": "[encoded data removed]",
      "text/plain": [
       "<Figure size 432x288 with 1 Axes>"
      ]
     },
     "metadata": {
      "needs_background": "light"
     },
     "output_type": "display_data"
    }
   ],
   "source": [
    "class ChessBoard:\n",
    "    def __init__(self):\n",
    "        self.entered_blue = []\n",
    "        self.entered_red = []\n",
    "        self.grid = np.zeros((8,8,3))\n",
    "        white = [1,1,1]\n",
    "        div = 1\n",
    "        for row , col in np.ndindex(8,8):\n",
    "            div = 0 if div else 1\n",
    "            if row % 2 == div and col % 2== div:\n",
    "                self.grid[row][col] = white\n",
    "    def add_red(self, row, col):\n",
    "        red = [1,.2,0]\n",
    "        self.entered_red = (row,col)\n",
    "        self.grid[row][col] = red\n",
    "    \n",
    "    def add_blue(self, row, col):\n",
    "        blue = [0,1,1]\n",
    "        self.entered_blue = (row,col)\n",
    "        self.grid[row][col] = blue\n",
    "    \n",
    "    def render(self):\n",
    "        plt.imshow(self.grid)\n",
    "    \n",
    "    def is_under_attack(self):\n",
    "        a = self.entered_blue[0] == self.entered_red[0] or self.entered_blue[1] == self.entered_red[1]\n",
    "        b = self.entered_blue[0] - self.entered_red[0] == self.entered_blue[1] -self.entered_red[1]\n",
    "        if a or b:\n",
    "            return True\n",
    "        return False\n",
    "        \n",
    "chess = ChessBoard()\n",
    "chess.add_blue(0,0)\n",
    "chess.add_red(2,5)       \n",
    "chess.render()\n",
    "chess.is_under_attack()"
   ]
  },
  {
   "cell_type": "code",
   "execution_count": 71,
   "metadata": {},
   "outputs": [],
   "source": [
    "\n",
    "def test_is_under_attack_dig():\n",
    "     chess.add_blue(1,1)\n",
    "     chess.add_red(2,2)\n",
    "     actual = chess.is_under_attack()\n",
    "     expected = True\n",
    "     assert actual == expected\n",
    "\n",
    "def test_is_under_attack_col():\n",
    "     chess.add_blue(1,1)\n",
    "     chess.add_red(2,1)\n",
    "     actual = chess.is_under_attack()\n",
    "     expected = True\n",
    "     assert actual == expected\n",
    "\n",
    "def test_is_under_attack_row():\n",
    "     chess.add_blue(1,1)\n",
    "     chess.add_red(1,3)\n",
    "     actual = chess.is_under_attack()\n",
    "     expected = True\n",
    "     assert actual == expected\n",
    "\n",
    "def test_is_not_under_attack():\n",
    "     chess.add_blue(1,1)\n",
    "     chess.add_red(5,3)\n",
    "     actual = chess.is_under_attack()\n",
    "     expected = False\n",
    "     assert actual == expected\n",
    "test_is_under_attack_dig()\n",
    "test_is_under_attack_col\n",
    "test_is_under_attack_row()\n",
    "test_is_not_under_attack()"
   ]
  }
 ],
 "metadata": {
  "interpreter": {
   "hash": "9f13459543cc5115775723a2636ca0eca164c726e7db7164749b1f93ec5075fb"
  },
  "kernelspec": {
   "display_name": "Python 3.9.5 64-bit ('.venv': poetry)",
   "language": "python",
   "name": "python3"
  },
  "language_info": {
   "codemirror_mode": {
    "name": "ipython",
    "version": 3
   },
   "file_extension": ".py",
   "mimetype": "text/x-python",
   "name": "python",
   "nbconvert_exporter": "python",
   "pygments_lexer": "ipython3",
   "version": "3.9.5"
  },
  "orig_nbformat": 4
 },
 "nbformat": 4,
 "nbformat_minor": 2
}
